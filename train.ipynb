{
 "cells": [
  {
   "cell_type": "markdown",
   "metadata": {},
   "source": [
    "# Import necessary libraries"
   ]
  },
  {
   "cell_type": "code",
   "execution_count": 95,
   "metadata": {},
   "outputs": [],
   "source": [
    "import random\n",
    "import json\n",
    "import pickle\n",
    "\n",
    "# numpy==1.23.1\n",
    "import numpy as np\n",
    "import matplotlib.pyplot as plt\n",
    "\n",
    "import nltk\n",
    "from nltk.stem import WordNetLemmatizer\n",
    "\n",
    "import tensorflow as tf\n",
    "from keras.models import Sequential\n",
    "from keras.layers import Dense, Dropout, Embedding, LSTM, Bidirectional\n",
    "from keras.optimizers import SGD"
   ]
  },
  {
   "cell_type": "markdown",
   "metadata": {},
   "source": [
    "# Loading dataset for training"
   ]
  },
  {
   "cell_type": "code",
   "execution_count": 96,
   "metadata": {},
   "outputs": [],
   "source": [
    "lemmatizer = WordNetLemmatizer()\n",
    "emotionData = json.loads(open(\"jsons/emotions.json\").read())"
   ]
  },
  {
   "cell_type": "markdown",
   "metadata": {},
   "source": [
    "# Necessary variable"
   ]
  },
  {
   "cell_type": "code",
   "execution_count": 97,
   "metadata": {},
   "outputs": [],
   "source": [
    "words = []\n",
    "classes = []\n",
    "documents = []\n",
    "ignore_letters = [\"?\", \"!\", \",\", \".\"]"
   ]
  },
  {
   "cell_type": "markdown",
   "metadata": {},
   "source": [
    "# Appending item from emotions.json"
   ]
  },
  {
   "cell_type": "code",
   "execution_count": 98,
   "metadata": {},
   "outputs": [],
   "source": [
    "for item_emo in emotionData:\n",
    "    word_list = nltk.word_tokenize(item_emo[\"Text\"])\n",
    "    words.extend(word_list)\n",
    "    documents.append((word_list, item_emo[\"Emotion\"]))\n",
    "    if item_emo[\"Emotion\"] not in classes:\n",
    "        classes.append(item_emo[\"Emotion\"])"
   ]
  },
  {
   "cell_type": "markdown",
   "metadata": {},
   "source": [
    "# Stemming the word by WordNetLemmatizer"
   ]
  },
  {
   "cell_type": "code",
   "execution_count": 99,
   "metadata": {},
   "outputs": [],
   "source": [
    "words = [lemmatizer.lemmatize(word) for word in words if word not in ignore_letters]"
   ]
  },
  {
   "cell_type": "markdown",
   "metadata": {},
   "source": [
    "# Remove duplicated value by casting to a set then casting it back to a list by sorted()"
   ]
  },
  {
   "cell_type": "code",
   "execution_count": 100,
   "metadata": {},
   "outputs": [],
   "source": [
    "words = sorted(set(words))\n",
    "classes = sorted(set(classes))"
   ]
  },
  {
   "cell_type": "markdown",
   "metadata": {},
   "source": [
    "# Saving words and classes as a pickle file for using it in chatbot"
   ]
  },
  {
   "cell_type": "code",
   "execution_count": 101,
   "metadata": {},
   "outputs": [],
   "source": [
    "pickle.dump(words, open(\"assets/word.pkl\", \"wb\"))\n",
    "pickle.dump(classes, open(\"assets/classes.pkl\", \"wb\"))"
   ]
  },
  {
   "cell_type": "markdown",
   "metadata": {},
   "source": [
    "# Training data"
   ]
  },
  {
   "cell_type": "code",
   "execution_count": 102,
   "metadata": {},
   "outputs": [],
   "source": [
    "training = []\n",
    "output_empty = [0] * len(classes)"
   ]
  },
  {
   "cell_type": "markdown",
   "metadata": {},
   "source": [
    "# Make the text in documents to be the numeric data"
   ]
  },
  {
   "cell_type": "code",
   "execution_count": 103,
   "metadata": {},
   "outputs": [],
   "source": [
    "for item_doc in documents:\n",
    "    bag = []\n",
    "    word_patterns = item_doc[0]\n",
    "    word_patterns = [lemmatizer.lemmatize(word.lower()) for word in word_patterns]\n",
    "    for word in words:\n",
    "        bag.append(1) if word in word_patterns else bag.append(0)\n",
    "\n",
    "    output_row = list(output_empty)\n",
    "    output_row[classes.index(item_doc[1])] = 1\n",
    "    training.append([bag, output_row])"
   ]
  },
  {
   "cell_type": "markdown",
   "metadata": {},
   "source": [
    "# Shuffle the data and cast it into an array"
   ]
  },
  {
   "cell_type": "code",
   "execution_count": 104,
   "metadata": {},
   "outputs": [],
   "source": [
    "random.shuffle(training)\n",
    "training = np.array(training, dtype=object)"
   ]
  },
  {
   "cell_type": "markdown",
   "metadata": {},
   "source": [
    "# Separate the training data: text into x and tag into y"
   ]
  },
  {
   "cell_type": "code",
   "execution_count": 105,
   "metadata": {},
   "outputs": [],
   "source": [
    "train_x = list(training[:, 0])\n",
    "train_y = list(training[:, 1])"
   ]
  },
  {
   "cell_type": "code",
   "execution_count": 106,
   "metadata": {},
   "outputs": [
    {
     "name": "stdout",
     "output_type": "stream",
     "text": [
      "[1, 0, 0, 0, 0, 0, 0, 0, 0, 0, 0, 0, 0, 0, 0, 0, 0, 0, 0, 0, 0, 0, 0, 0, 0, 0, 0, 0, 0, 0, 0, 0, 0, 0, 0, 0, 0, 0, 0, 0, 0, 0, 0, 0, 0, 0, 0, 0, 0, 0, 0, 0, 0, 0, 0, 0, 0, 0, 0, 0, 0, 0, 0, 0, 0, 0, 0, 0, 0, 0, 0, 0, 0, 0, 0, 0, 0, 0, 0, 0, 0, 0, 0, 0, 0, 0, 0, 0, 1, 0, 0, 0, 1, 0, 0, 0, 0, 0, 0, 0, 0, 0, 0, 0, 0, 0, 0, 0, 0, 0, 0, 0, 0, 0, 0, 0, 0, 0, 0, 0, 0, 0, 0, 0, 0, 0, 0, 0, 0, 0, 0, 0, 0, 0, 0, 0, 0, 0, 0, 0, 0, 0, 0, 0, 0, 0, 0, 0, 0, 0, 0, 0, 0, 0, 0, 0, 0, 0, 0, 0, 0, 0, 0, 0, 0, 0, 0, 0, 0, 0, 0, 0, 0, 0, 0, 0, 0, 0, 0, 0, 0, 0, 0, 0, 0, 0, 0, 0, 0, 0, 0, 0, 0, 0, 0, 0, 0, 0, 0, 0, 0, 0, 0, 0, 0, 0, 0, 0, 0, 0, 0, 0, 0, 0, 0, 0, 0, 0, 0, 0, 0, 0, 0, 0, 0, 0, 0, 0, 0, 0, 0, 0, 0, 0, 0, 0, 0, 0, 0, 0, 0, 0, 0, 0, 0, 0, 0, 0, 0, 0, 0, 0, 0, 0, 0, 0, 0, 0, 0, 0, 0, 0, 0, 0, 0, 0, 0, 0, 0, 0, 0, 0, 0, 0, 0, 0, 0, 0, 0, 0, 0, 0, 0, 0, 0, 0, 0, 0, 0, 0, 0, 0, 0, 0, 0, 0, 0, 0, 0, 0, 0, 0, 0, 0, 0, 0, 0, 0, 0, 0, 0, 0, 0, 0, 0, 0, 0, 0, 0, 0, 0, 0, 0, 0, 0, 0, 0, 0, 0, 0, 0, 0, 0, 0, 0, 0, 0, 0, 0, 0, 0, 0, 0, 0, 0, 0, 0, 0, 0, 0, 0, 0, 0, 0, 0, 0, 0, 0, 0, 0, 0, 0, 0, 0, 0, 0, 0, 0, 0, 0, 0, 0, 0, 0, 0, 0, 0, 0, 0, 0, 0, 0, 0, 0, 0, 0, 0, 0, 0, 0, 0, 0, 0, 0, 0, 0, 0, 0, 0, 0, 0, 0, 0, 0, 0, 0, 0, 0, 0, 0, 0, 0, 0, 0, 0, 0, 0, 0, 0, 0, 0, 0, 0, 0, 0, 0, 0, 0, 0, 0, 0, 0, 0, 0, 0, 0, 0, 0, 0, 0, 0, 0, 0, 0, 0, 0, 0, 0, 0, 0, 0, 0, 0, 0, 0, 0, 0, 0, 0, 0, 0, 0, 0, 0, 0, 0, 0, 0, 0, 0, 0, 0, 0, 0, 0, 0, 0, 0, 0, 0, 0, 0, 0, 0, 0, 0, 0, 0, 0, 0, 0, 0, 0, 0, 0, 0, 0, 0, 0, 0, 0, 0, 0, 0, 0, 0, 0, 0, 0, 0, 0, 0, 0, 0, 0, 0, 0, 0, 0, 0, 0, 0, 0, 0, 0, 0, 0, 0, 0, 0, 0, 0, 0, 0, 0, 0, 0, 0, 0, 0, 0, 0, 0, 0, 0, 0, 0, 0, 0, 0, 0, 0, 0, 0, 0, 0, 0, 0, 0, 0, 0, 0, 0, 0, 0, 0, 0, 0, 0, 0, 0, 0, 0, 0, 0, 0, 0, 0, 0, 0, 0, 0, 0, 0, 0, 0, 0, 0, 0, 0, 0, 0, 0, 0, 0, 0, 0, 0, 0, 0, 0, 0, 0, 0, 0, 0, 0, 0, 0, 0, 0, 0, 0, 0, 0, 0, 0, 0, 0, 0, 0, 0, 0, 0, 0, 0, 0, 0, 0, 0, 0, 0, 0, 0, 0, 0, 0, 0, 0, 0, 0, 0, 0, 0, 0, 0, 0, 0, 0, 0, 0, 0, 0, 0, 0, 0, 0, 0, 0, 0, 0, 0, 0, 0, 0, 0, 0, 0, 0, 0, 0, 0, 0, 0, 0, 0, 0, 0, 0, 0, 0, 0, 0, 0, 0, 0, 0, 0, 0, 0, 0, 0, 0, 0, 0, 0, 0, 0, 0, 0, 0, 0, 0, 0, 0, 0, 0, 0, 0, 0, 0, 0, 0, 0, 0, 0, 0, 0, 0, 0, 0, 0, 0, 0, 0, 0, 0, 0, 0, 0, 0, 0, 0, 0, 0, 0, 0, 0, 0, 0, 0, 0, 0, 0, 0, 0, 0, 0, 0, 0, 0, 0, 0, 0, 0, 0, 0, 0, 0, 0, 0, 0, 0, 0, 0, 0, 0, 0, 0, 0, 0, 0, 0, 0, 0, 0, 0, 0, 0, 0, 0, 0, 0, 0, 0, 0, 0, 0, 1, 0, 0, 0, 1, 0, 0, 0, 0, 0, 0, 0, 0, 0, 0, 0, 1, 0, 0, 0, 0, 0, 0, 0, 0, 0, 0, 0, 0, 0, 0, 0, 0, 0, 0, 0, 0, 0, 0, 0, 0, 0, 0, 0, 0, 0, 0, 0, 0, 0, 0, 0, 0, 0, 0, 0, 0, 0, 0, 0, 0, 0, 0, 0, 0, 0, 0, 0, 0, 0, 0, 0, 0, 0, 0, 0, 0, 0, 0, 0, 0, 0, 0, 0, 0, 0, 0, 0, 0, 0, 0, 0, 0, 0, 0, 0, 0, 0, 0, 0, 0, 0, 0, 0, 0, 0, 0, 0, 0, 0, 0, 0, 0, 0, 0, 0, 0, 0, 0, 0, 0, 0, 0, 0, 0, 0, 0, 0, 0, 0, 0, 0, 0, 0, 0, 0, 0, 0, 0, 0, 0, 0, 0, 0, 0, 0, 0, 0, 0, 0, 0, 0, 0, 0, 0, 0, 0, 0, 0, 0, 0, 0, 0, 0, 0, 0, 0, 0, 0, 0, 0, 0, 0, 0, 0, 0, 0, 0, 0, 0, 0, 0, 0, 0, 0, 0, 0, 0, 0, 0, 0, 0, 0, 0, 0, 0, 0, 0, 0, 0, 0, 0, 0, 0, 0, 0, 0, 0, 0, 0, 0, 0, 0, 0, 0, 0, 0, 0, 0, 0, 0, 0, 0, 0, 0, 0, 0, 0, 0, 0, 0, 0, 0, 0, 0, 0, 0, 0, 0, 0, 0, 0, 0, 0, 0, 0, 0, 0, 0, 0, 0, 0, 0, 0, 0, 0, 0, 0, 0, 0, 0, 0, 0, 0, 0, 0, 0, 0, 0, 0, 0, 0, 0, 0, 0, 0, 0, 0, 0, 0, 0, 0, 0, 0, 0, 0, 0, 0, 0, 0, 0, 0, 0, 0, 0, 0, 0, 0, 0, 0, 0, 0, 0, 0, 0, 0, 0, 0, 0, 0, 0, 0, 0, 0, 0, 0, 0, 0, 0, 0, 0, 0, 0, 0, 0, 0, 0, 0, 0, 0, 0, 0, 0, 0, 0, 0, 0, 0, 0, 0, 0, 0, 0, 0, 0, 0, 0, 0, 1, 0, 0, 0, 0, 0, 0, 0, 0, 0, 0, 0, 0, 0, 0, 0, 0, 0, 0, 0, 0, 0, 0, 0, 0, 0, 0, 0, 0, 0, 0, 0, 0, 0, 0, 0, 0, 0, 0, 0, 0, 0, 0, 0, 0, 0, 0, 0, 0, 0, 0, 0, 0, 0, 0, 0, 0, 0, 0, 0, 0, 0, 0, 0, 0, 0, 0, 0, 0, 0, 0, 0, 0, 0, 0, 0, 0, 0, 0, 0, 0, 0, 0, 0, 0, 0, 0, 0, 0, 0, 0, 0, 0, 0, 0, 0, 0, 0, 0, 0, 1, 0, 0, 0, 0, 0, 0, 0, 0, 0, 0, 0, 0, 0, 0, 0, 0, 0, 0, 0, 0, 0, 0, 0, 0, 0, 0, 0, 0, 0, 0, 0, 0, 0, 0, 0, 0, 0, 0, 0, 0, 0, 0, 0, 0, 0, 0, 0, 0, 0, 0, 0, 0, 0, 0, 0, 0, 0, 0, 0, 0, 0, 0, 0, 0, 0, 0, 0, 0, 0, 0, 0, 0, 0, 0, 0]\n",
      "[1, 0, 0, 0, 0, 0]\n"
     ]
    }
   ],
   "source": [
    "print(train_x[0])\n",
    "print(train_y[0])\n"
   ]
  },
  {
   "cell_type": "markdown",
   "metadata": {},
   "source": [
    "# Build the model"
   ]
  },
  {
   "cell_type": "code",
   "execution_count": 107,
   "metadata": {},
   "outputs": [
    {
     "name": "stdout",
     "output_type": "stream",
     "text": [
      "Model: \"sequential_5\"\n",
      "_________________________________________________________________\n",
      " Layer (type)                Output Shape              Param #   \n",
      "=================================================================\n",
      " dense_15 (Dense)            (None, 128)               168064    \n",
      "                                                                 \n",
      " dropout_10 (Dropout)        (None, 128)               0         \n",
      "                                                                 \n",
      " dense_16 (Dense)            (None, 64)                8256      \n",
      "                                                                 \n",
      " dropout_11 (Dropout)        (None, 64)                0         \n"
     ]
    },
    {
     "name": "stdout",
     "output_type": "stream",
     "text": [
      "                                                                 \n",
      " dense_17 (Dense)            (None, 6)                 390       \n",
      "                                                                 \n",
      "=================================================================\n",
      "Total params: 176710 (690.27 KB)\n",
      "Trainable params: 176710 (690.27 KB)\n",
      "Non-trainable params: 0 (0.00 Byte)\n",
      "_________________________________________________________________\n"
     ]
    }
   ],
   "source": [
    "model = Sequential()\n",
    "model.add(Dense(128, input_shape=(len(train_x[0]),), activation=\"relu\"))\n",
    "model.add(Dropout(0.5))\n",
    "model.add(Dense(64, activation=\"relu\"))\n",
    "model.add(Dropout(0.5))\n",
    "model.add(Dense(len(train_y[0]), activation=\"softmax\"))\n",
    "\n",
    "sgd = tf.keras.optimizers.legacy.SGD(learning_rate=0.01, decay=1e-6, momentum=0.9, nesterov=True)\n",
    "\n",
    "model.compile(loss=\"categorical_crossentropy\", optimizer=sgd, metrics=[\"accuracy\"])\n",
    "model.summary()"
   ]
  },
  {
   "cell_type": "markdown",
   "metadata": {},
   "source": [
    "# Training and save the file for using in chatbot for predicate"
   ]
  },
  {
   "cell_type": "code",
   "execution_count": 108,
   "metadata": {},
   "outputs": [
    {
     "name": "stdout",
     "output_type": "stream",
     "text": [
      "Epoch 1/50\n",
      "82/82 [==============================] - 1s 3ms/step - loss: 1.5093 - accuracy: 0.4235 - val_loss: 0.9627 - val_accuracy: 0.8792\n",
      "Epoch 2/50\n",
      "82/82 [==============================] - 0s 2ms/step - loss: 0.7630 - accuracy: 0.7737 - val_loss: 0.3476 - val_accuracy: 0.9297\n",
      "Epoch 3/50\n",
      "82/82 [==============================] - 0s 2ms/step - loss: 0.3904 - accuracy: 0.8838 - val_loss: 0.1676 - val_accuracy: 0.9633\n",
      "Epoch 4/50\n",
      "82/82 [==============================] - 0s 2ms/step - loss: 0.2414 - accuracy: 0.9335 - val_loss: 0.1139 - val_accuracy: 0.9694\n",
      "Epoch 5/50\n",
      "82/82 [==============================] - 0s 2ms/step - loss: 0.1786 - accuracy: 0.9580 - val_loss: 0.0883 - val_accuracy: 0.9771\n",
      "Epoch 6/50\n",
      "82/82 [==============================] - 0s 2ms/step - loss: 0.1340 - accuracy: 0.9629 - val_loss: 0.0762 - val_accuracy: 0.9771\n",
      "Epoch 7/50\n",
      "82/82 [==============================] - 0s 2ms/step - loss: 0.1014 - accuracy: 0.9786 - val_loss: 0.0647 - val_accuracy: 0.9801\n",
      "Epoch 8/50\n",
      "82/82 [==============================] - 0s 2ms/step - loss: 0.0892 - accuracy: 0.9805 - val_loss: 0.0567 - val_accuracy: 0.9801\n",
      "Epoch 9/50\n",
      "82/82 [==============================] - 0s 2ms/step - loss: 0.0700 - accuracy: 0.9866 - val_loss: 0.0552 - val_accuracy: 0.9801\n",
      "Epoch 10/50\n",
      "82/82 [==============================] - 0s 2ms/step - loss: 0.0579 - accuracy: 0.9859 - val_loss: 0.0565 - val_accuracy: 0.9801\n",
      "Epoch 11/50\n",
      "82/82 [==============================] - 0s 2ms/step - loss: 0.0592 - accuracy: 0.9878 - val_loss: 0.0534 - val_accuracy: 0.9801\n",
      "Epoch 12/50\n",
      "82/82 [==============================] - 0s 2ms/step - loss: 0.0456 - accuracy: 0.9893 - val_loss: 0.0536 - val_accuracy: 0.9801\n",
      "Epoch 13/50\n",
      "82/82 [==============================] - 0s 2ms/step - loss: 0.0355 - accuracy: 0.9920 - val_loss: 0.0526 - val_accuracy: 0.9817\n",
      "Epoch 14/50\n",
      "82/82 [==============================] - 0s 2ms/step - loss: 0.0394 - accuracy: 0.9924 - val_loss: 0.0514 - val_accuracy: 0.9801\n",
      "Epoch 15/50\n",
      "82/82 [==============================] - 0s 2ms/step - loss: 0.0376 - accuracy: 0.9920 - val_loss: 0.0546 - val_accuracy: 0.9817\n",
      "Epoch 16/50\n",
      "82/82 [==============================] - 0s 2ms/step - loss: 0.0332 - accuracy: 0.9924 - val_loss: 0.0513 - val_accuracy: 0.9817\n",
      "Epoch 17/50\n",
      "82/82 [==============================] - 0s 2ms/step - loss: 0.0287 - accuracy: 0.9939 - val_loss: 0.0531 - val_accuracy: 0.9817\n",
      "Epoch 18/50\n",
      "82/82 [==============================] - 0s 2ms/step - loss: 0.0307 - accuracy: 0.9920 - val_loss: 0.0498 - val_accuracy: 0.9832\n",
      "Epoch 19/50\n",
      "82/82 [==============================] - 0s 2ms/step - loss: 0.0238 - accuracy: 0.9943 - val_loss: 0.0523 - val_accuracy: 0.9832\n",
      "Epoch 20/50\n",
      "82/82 [==============================] - 0s 2ms/step - loss: 0.0231 - accuracy: 0.9958 - val_loss: 0.0494 - val_accuracy: 0.9832\n",
      "Epoch 21/50\n",
      "82/82 [==============================] - 0s 2ms/step - loss: 0.0194 - accuracy: 0.9969 - val_loss: 0.0526 - val_accuracy: 0.9817\n",
      "Epoch 22/50\n",
      "82/82 [==============================] - 0s 2ms/step - loss: 0.0184 - accuracy: 0.9981 - val_loss: 0.0522 - val_accuracy: 0.9817\n",
      "Epoch 23/50\n",
      "82/82 [==============================] - 0s 2ms/step - loss: 0.0202 - accuracy: 0.9943 - val_loss: 0.0563 - val_accuracy: 0.9817\n",
      "Epoch 24/50\n",
      "82/82 [==============================] - 0s 2ms/step - loss: 0.0158 - accuracy: 0.9981 - val_loss: 0.0505 - val_accuracy: 0.9832\n",
      "Epoch 25/50\n",
      "82/82 [==============================] - 0s 2ms/step - loss: 0.0161 - accuracy: 0.9966 - val_loss: 0.0533 - val_accuracy: 0.9832\n",
      "Epoch 26/50\n",
      "82/82 [==============================] - 0s 2ms/step - loss: 0.0159 - accuracy: 0.9973 - val_loss: 0.0510 - val_accuracy: 0.9817\n",
      "Epoch 27/50\n",
      "82/82 [==============================] - 0s 2ms/step - loss: 0.0153 - accuracy: 0.9977 - val_loss: 0.0596 - val_accuracy: 0.9817\n",
      "Epoch 28/50\n",
      "82/82 [==============================] - 0s 2ms/step - loss: 0.0115 - accuracy: 0.9977 - val_loss: 0.0547 - val_accuracy: 0.9817\n",
      "Epoch 29/50\n",
      "82/82 [==============================] - 0s 2ms/step - loss: 0.0125 - accuracy: 0.9977 - val_loss: 0.0567 - val_accuracy: 0.9832\n",
      "Epoch 30/50\n",
      "82/82 [==============================] - 0s 2ms/step - loss: 0.0113 - accuracy: 0.9985 - val_loss: 0.0577 - val_accuracy: 0.9832\n",
      "Epoch 31/50\n",
      "82/82 [==============================] - 0s 2ms/step - loss: 0.0118 - accuracy: 0.9981 - val_loss: 0.0541 - val_accuracy: 0.9817\n",
      "Epoch 32/50\n",
      "82/82 [==============================] - 0s 2ms/step - loss: 0.0124 - accuracy: 0.9973 - val_loss: 0.0542 - val_accuracy: 0.9832\n",
      "Epoch 33/50\n",
      "82/82 [==============================] - 0s 2ms/step - loss: 0.0101 - accuracy: 0.9992 - val_loss: 0.0505 - val_accuracy: 0.9832\n",
      "Epoch 34/50\n",
      "82/82 [==============================] - 0s 2ms/step - loss: 0.0076 - accuracy: 0.9996 - val_loss: 0.0507 - val_accuracy: 0.9832\n",
      "Epoch 35/50\n",
      "82/82 [==============================] - 0s 2ms/step - loss: 0.0095 - accuracy: 0.9985 - val_loss: 0.0520 - val_accuracy: 0.9832\n",
      "Epoch 36/50\n",
      "82/82 [==============================] - 0s 2ms/step - loss: 0.0112 - accuracy: 0.9977 - val_loss: 0.0559 - val_accuracy: 0.9832\n",
      "Epoch 37/50\n",
      "82/82 [==============================] - 0s 2ms/step - loss: 0.0096 - accuracy: 0.9985 - val_loss: 0.0526 - val_accuracy: 0.9832\n",
      "Epoch 38/50\n",
      "82/82 [==============================] - 0s 2ms/step - loss: 0.0070 - accuracy: 0.9989 - val_loss: 0.0494 - val_accuracy: 0.9832\n",
      "Epoch 39/50\n",
      "82/82 [==============================] - 0s 2ms/step - loss: 0.0099 - accuracy: 0.9989 - val_loss: 0.0500 - val_accuracy: 0.9817\n",
      "Epoch 40/50\n",
      "82/82 [==============================] - 0s 2ms/step - loss: 0.0110 - accuracy: 0.9985 - val_loss: 0.0533 - val_accuracy: 0.9832\n",
      "Epoch 41/50\n",
      "82/82 [==============================] - 0s 2ms/step - loss: 0.0117 - accuracy: 0.9969 - val_loss: 0.0563 - val_accuracy: 0.9832\n",
      "Epoch 42/50\n",
      "82/82 [==============================] - 0s 2ms/step - loss: 0.0103 - accuracy: 0.9989 - val_loss: 0.0542 - val_accuracy: 0.9832\n",
      "Epoch 43/50\n",
      "82/82 [==============================] - 0s 2ms/step - loss: 0.0082 - accuracy: 0.9985 - val_loss: 0.0552 - val_accuracy: 0.9832\n",
      "Epoch 44/50\n",
      "82/82 [==============================] - 0s 2ms/step - loss: 0.0083 - accuracy: 0.9981 - val_loss: 0.0567 - val_accuracy: 0.9847\n",
      "Epoch 45/50\n",
      "82/82 [==============================] - 0s 2ms/step - loss: 0.0085 - accuracy: 0.9985 - val_loss: 0.0488 - val_accuracy: 0.9847\n",
      "Epoch 46/50\n",
      "82/82 [==============================] - 0s 2ms/step - loss: 0.0084 - accuracy: 0.9989 - val_loss: 0.0584 - val_accuracy: 0.9847\n",
      "Epoch 47/50\n",
      "82/82 [==============================] - 0s 2ms/step - loss: 0.0056 - accuracy: 1.0000 - val_loss: 0.0591 - val_accuracy: 0.9847\n",
      "Epoch 48/50\n",
      "82/82 [==============================] - 0s 2ms/step - loss: 0.0068 - accuracy: 0.9989 - val_loss: 0.0570 - val_accuracy: 0.9847\n",
      "Epoch 49/50\n",
      "82/82 [==============================] - 0s 2ms/step - loss: 0.0083 - accuracy: 0.9977 - val_loss: 0.0535 - val_accuracy: 0.9847\n",
      "Epoch 50/50\n",
      "82/82 [==============================] - 0s 2ms/step - loss: 0.0072 - accuracy: 0.9992 - val_loss: 0.0566 - val_accuracy: 0.9817\n",
      "Done\n"
     ]
    }
   ],
   "source": [
    "hist = model.fit(np.array(train_x), np.array(train_y), validation_split=0.2, epochs=50, batch_size=32, verbose=1)\n",
    "\n",
    "model.save(\"model/chatbot_model.h5\", hist)\n",
    "print(\"Done\")"
   ]
  },
  {
   "cell_type": "markdown",
   "metadata": {},
   "source": [
    "# List all data in history"
   ]
  },
  {
   "cell_type": "code",
   "execution_count": 109,
   "metadata": {},
   "outputs": [
    {
     "name": "stdout",
     "output_type": "stream",
     "text": [
      "dict_keys(['loss', 'accuracy', 'val_loss', 'val_accuracy'])\n"
     ]
    }
   ],
   "source": [
    "print(hist.history.keys())"
   ]
  },
  {
   "cell_type": "markdown",
   "metadata": {},
   "source": [
    "# Summarize history for accuracy"
   ]
  },
  {
   "cell_type": "code",
   "execution_count": 110,
   "metadata": {},
   "outputs": [
    {
     "data": {
      "image/png": "[encoded data removed]",
      "text/plain": [
       "<Figure size 640x480 with 1 Axes>"
      ]
     },
     "metadata": {},
     "output_type": "display_data"
    }
   ],
   "source": [
    "plt.plot(hist.history[\"accuracy\"])\n",
    "plt.plot(hist.history['val_accuracy'])\n",
    "plt.title(\"model accuracy\")\n",
    "plt.ylabel(\"accuracy\")\n",
    "plt.xlabel(\"epoch\")\n",
    "plt.legend([\"train\", \"test\"], loc=\"upper left\")\n",
    "plt.show()"
   ]
  },
  {
   "cell_type": "markdown",
   "metadata": {},
   "source": [
    "# Summarize history for loss"
   ]
  },
  {
   "cell_type": "code",
   "execution_count": 111,
   "metadata": {},
   "outputs": [
    {
     "data": {
      "image/png": "[encoded data removed]",
      "text/plain": [
       "<Figure size 640x480 with 1 Axes>"
      ]
     },
     "metadata": {},
     "output_type": "display_data"
    }
   ],
   "source": [
    "plt.plot(hist.history[\"loss\"])\n",
    "plt.plot(hist.history['val_loss'])\n",
    "plt.title(\"model loss\")\n",
    "plt.ylabel(\"loss\")\n",
    "plt.xlabel(\"epoch\")\n",
    "plt.legend([\"train\", \"test\"], loc=\"upper left\")\n",
    "plt.show()"
   ]
  }
 ],
 "metadata": {
  "kernelspec": {
   "display_name": "env",
   "language": "python",
   "name": "python3"
  },
  "language_info": {
   "codemirror_mode": {
    "name": "ipython",
    "version": 3
   },
   "file_extension": ".py",
   "mimetype": "text/x-python",
   "name": "python",
   "nbconvert_exporter": "python",
   "pygments_lexer": "ipython3",
   "version": "3.11.4"
  },
  "orig_nbformat": 4
 },
 "nbformat": 4,
 "nbformat_minor": 2
}
